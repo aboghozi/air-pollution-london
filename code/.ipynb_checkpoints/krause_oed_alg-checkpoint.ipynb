{
 "cells": [
  {
   "cell_type": "code",
   "execution_count": 1,
   "metadata": {},
   "outputs": [],
   "source": [
    "## load in relevant packages\n",
    "%matplotlib inline\n",
    "#import seaborn as sns\n",
    "import matplotlib.pyplot as plt\n",
    "#plt.style.use('seaborn-whitegrid')\n",
    "import pandas as pd  \n",
    "import numpy as np\n",
    "from scipy import linalg\n",
    "import gpflow\n",
    "import math as ma\n",
    "from sklearn.preprocessing import StandardScaler  \n",
    "feature_scaler = StandardScaler()\n",
    "\n",
    "np.random.seed(5)\n",
    "\n",
    "## set max number\n",
    "N = 100\n",
    "## set number of sensor locations to find\n",
    "k = 8\n",
    "## set percent of N to train on\n",
    "perc = .10"
   ]
  },
  {
   "cell_type": "code",
   "execution_count": 2,
   "metadata": {},
   "outputs": [
    {
     "data": {
      "text/plain": [
       "[<matplotlib.lines.Line2D at 0x13441f048>]"
      ]
     },
     "execution_count": 2,
     "metadata": {},
     "output_type": "execute_result"
    },
    {
     "data": {
      "image/png": "[encoded data removed]",
      "text/plain": [
       "<Figure size 432x288 with 1 Axes>"
      ]
     },
     "metadata": {
      "needs_background": "light"
     },
     "output_type": "display_data"
    }
   ],
   "source": [
    "## create subset size for the trained data\n",
    "sub = ma.ceil(perc*N)\n",
    "## create fake data for model\n",
    "noiseSize = 0.05\n",
    "\n",
    "## define X values (integers from 0 to N)\n",
    "X = np.arange(0,N+1,1)\n",
    "## take sample for training\n",
    "x_train = np.random.randint(0,N,sub)\n",
    "x_train = x_train.reshape(-1,1)\n",
    "x_train = x_train.astype(float)\n",
    "y_train = np.sin(12*x_train) + 0.66*np.cos(25*x_train)  + np.random.randn(sub,1)*noiseSize + 3\n",
    "\n",
    "## plot distribution of selected sensors\n",
    "plt.plot(x_train, y_train, 'kx')"
   ]
  },
  {
   "cell_type": "code",
   "execution_count": 3,
   "metadata": {},
   "outputs": [
    {
     "name": "stdout",
     "output_type": "stream",
     "text": [
      "WARNING:tensorflow:From /Users/adrianna/Library/Python/3.7/lib/python/site-packages/tensorflow/python/framework/op_def_library.py:263: colocate_with (from tensorflow.python.framework.ops) is deprecated and will be removed in a future version.\n",
      "Instructions for updating:\n",
      "Colocations handled automatically by placer.\n"
     ]
    },
    {
     "name": "stderr",
     "output_type": "stream",
     "text": [
      "WARNING:tensorflow:From /Users/adrianna/Library/Python/3.7/lib/python/site-packages/tensorflow/python/framework/op_def_library.py:263: colocate_with (from tensorflow.python.framework.ops) is deprecated and will be removed in a future version.\n",
      "Instructions for updating:\n",
      "Colocations handled automatically by placer.\n",
      "WARNING:gpflow.logdensities:Shape of x must be 2D at computation.\n"
     ]
    },
    {
     "data": {
      "text/html": [
       "<div>\n",
       "<style scoped>\n",
       "    .dataframe tbody tr th:only-of-type {\n",
       "        vertical-align: middle;\n",
       "    }\n",
       "\n",
       "    .dataframe tbody tr th {\n",
       "        vertical-align: top;\n",
       "    }\n",
       "\n",
       "    .dataframe thead th {\n",
       "        text-align: right;\n",
       "    }\n",
       "</style>\n",
       "<table border=\"1\" class=\"dataframe\">\n",
       "  <thead>\n",
       "    <tr style=\"text-align: right;\">\n",
       "      <th></th>\n",
       "      <th>class</th>\n",
       "      <th>prior</th>\n",
       "      <th>transform</th>\n",
       "      <th>trainable</th>\n",
       "      <th>shape</th>\n",
       "      <th>fixed_shape</th>\n",
       "      <th>value</th>\n",
       "    </tr>\n",
       "  </thead>\n",
       "  <tbody>\n",
       "    <tr>\n",
       "      <th>GPR/kern/lengthscales</th>\n",
       "      <td>Parameter</td>\n",
       "      <td>None</td>\n",
       "      <td>+ve</td>\n",
       "      <td>True</td>\n",
       "      <td>()</td>\n",
       "      <td>True</td>\n",
       "      <td>1.0</td>\n",
       "    </tr>\n",
       "    <tr>\n",
       "      <th>GPR/kern/variance</th>\n",
       "      <td>Parameter</td>\n",
       "      <td>None</td>\n",
       "      <td>+ve</td>\n",
       "      <td>True</td>\n",
       "      <td>()</td>\n",
       "      <td>True</td>\n",
       "      <td>1.0</td>\n",
       "    </tr>\n",
       "    <tr>\n",
       "      <th>GPR/likelihood/variance</th>\n",
       "      <td>Parameter</td>\n",
       "      <td>None</td>\n",
       "      <td>+ve</td>\n",
       "      <td>True</td>\n",
       "      <td>()</td>\n",
       "      <td>True</td>\n",
       "      <td>0.01</td>\n",
       "    </tr>\n",
       "  </tbody>\n",
       "</table>\n",
       "</div>"
      ],
      "text/plain": [
       "                             class prior transform  trainable shape  \\\n",
       "GPR/kern/lengthscales    Parameter  None       +ve       True    ()   \n",
       "GPR/kern/variance        Parameter  None       +ve       True    ()   \n",
       "GPR/likelihood/variance  Parameter  None       +ve       True    ()   \n",
       "\n",
       "                         fixed_shape value  \n",
       "GPR/kern/lengthscales           True   1.0  \n",
       "GPR/kern/variance               True   1.0  \n",
       "GPR/likelihood/variance         True  0.01  "
      ]
     },
     "execution_count": 3,
     "metadata": {},
     "output_type": "execute_result"
    }
   ],
   "source": [
    "## build model\n",
    "kernel = gpflow.kernels.RBF(1, active_dims=[0], lengthscales=1.0)\n",
    "## build model\n",
    "m = gpflow.models.GPR(x_train, y_train, kern=kernel)\n",
    "m.likelihood.variance = 0.01\n",
    "\n",
    "## view \n",
    "m.as_pandas_table()"
   ]
  },
  {
   "cell_type": "code",
   "execution_count": 4,
   "metadata": {},
   "outputs": [
    {
     "name": "stdout",
     "output_type": "stream",
     "text": [
      "WARNING:tensorflow:From /Users/adrianna/Library/Python/3.7/lib/python/site-packages/tensorflow/python/ops/math_ops.py:3066: to_int32 (from tensorflow.python.ops.math_ops) is deprecated and will be removed in a future version.\n",
      "Instructions for updating:\n",
      "Use tf.cast instead.\n"
     ]
    },
    {
     "name": "stderr",
     "output_type": "stream",
     "text": [
      "WARNING:tensorflow:From /Users/adrianna/Library/Python/3.7/lib/python/site-packages/tensorflow/python/ops/math_ops.py:3066: to_int32 (from tensorflow.python.ops.math_ops) is deprecated and will be removed in a future version.\n",
      "Instructions for updating:\n",
      "Use tf.cast instead.\n"
     ]
    },
    {
     "name": "stdout",
     "output_type": "stream",
     "text": [
      "INFO:tensorflow:Optimization terminated with:\n",
      "  Message: b'CONVERGENCE: NORM_OF_PROJECTED_GRADIENT_<=_PGTOL'\n",
      "  Objective function value: 18.673653\n",
      "  Number of iterations: 19\n",
      "  Number of functions evaluations: 22\n"
     ]
    },
    {
     "name": "stderr",
     "output_type": "stream",
     "text": [
      "INFO:tensorflow:Optimization terminated with:\n",
      "  Message: b'CONVERGENCE: NORM_OF_PROJECTED_GRADIENT_<=_PGTOL'\n",
      "  Objective function value: 18.673653\n",
      "  Number of iterations: 19\n",
      "  Number of functions evaluations: 22\n"
     ]
    },
    {
     "name": "stdout",
     "output_type": "stream",
     "text": [
      "                             class prior transform  trainable shape  \\\n",
      "GPR/kern/lengthscales    Parameter  None       +ve       True    ()   \n",
      "GPR/kern/variance        Parameter  None       +ve       True    ()   \n",
      "GPR/likelihood/variance  Parameter  None       +ve       True    ()   \n",
      "\n",
      "                         fixed_shape                value  \n",
      "GPR/kern/lengthscales           True   12.249929783108312  \n",
      "GPR/kern/variance               True   10.752711275527057  \n",
      "GPR/likelihood/variance         True  0.12279649439486567  \n"
     ]
    }
   ],
   "source": [
    "gpflow.train.ScipyOptimizer().minimize(m)\n",
    "print(m.as_pandas_table())"
   ]
  },
  {
   "cell_type": "code",
   "execution_count": 5,
   "metadata": {},
   "outputs": [],
   "source": [
    "## example: thought exercise\n",
    "## 5 sensor locations: S = [4,5,6,7,8]\n",
    "## total number of sensors to find: k = 2\n",
    "## for each iteration (1:k):\n",
    "    ## for each possible sensor location (y) not in A (S):\n",
    "        ## calculate: corr(y)^2 - corr(yA)*np.linalg.inv(corr(AA))*corr(Ay) / corr(y)^2 - corr(ynA)*np.linalg.inv(corr(nAA))*corr(nAy)\n",
    "    ## select max(store_val)\n",
    "    ## append y to A\n",
    "\n",
    "    \n",
    "## selected sensors (indices)\n",
    "A = np.array([],dtype=int)\n",
    "## number of sensors to find\n",
    "k = k\n",
    "## define x_new as the new points not used for training\n",
    "x_new = np.setdiff1d(X, x_train)\n",
    "x_new = x_new.reshape(-1,1)\n",
    "## define S as the incides of x_new\n",
    "S = np.arange(0,x_new.shape[0]).reshape(x_new.shape[0],1)    "
   ]
  },
  {
   "cell_type": "code",
   "execution_count": 6,
   "metadata": {},
   "outputs": [],
   "source": [
    "## x is np.array or single value\n",
    "def generate_cov_mat(x):\n",
    "    if not isinstance(x, np.ndarray):\n",
    "        x = np.array(x).reshape(-1,1)\n",
    "    ## select the 2nd object and bring up one dimension\n",
    "    cov_mat = m.predict_f_full_cov(x)[1][0,:,:]\n",
    "    return(cov_mat)"
   ]
  },
  {
   "cell_type": "code",
   "execution_count": 16,
   "metadata": {},
   "outputs": [],
   "source": [
    "def pick_best_sensors_krause(S, X, k, A, verbose=False):\n",
    "\n",
    "    ## take out locations already in A before checks\n",
    "    S = S[np.isin(S, A, invert=True)]\n",
    "    \n",
    "    ## checks\n",
    "    if k > S.shape[0]:\n",
    "        print(\"error! k must be smaller than S\")\n",
    "        return\n",
    "    if k/S.shape[0] > 0.25:\n",
    "        print(\"Recommendation: k should be a significantly small fraction of S\")\n",
    "    \n",
    "    ## print statements\n",
    "    print(\"finding \" + str(k) + \" sensor locations of \" + str(S.shape[0]) + \" possible locations\")\n",
    "    \n",
    "    ## next version: \n",
    "    ## add S + U\n",
    "    ## add for 2-d, 3-d, etc\n",
    "    \n",
    "    ## create definition to generate model\n",
    "    \n",
    "    ## later version:\n",
    "    ## use one full matrix and subset from\n",
    "    \n",
    "    ## additional checks:\n",
    "    ## length of A + k should be less than S\n",
    "    \n",
    "    ## add order of points selected\n",
    "    ## generate plots as it selects sensors \n",
    "    ## so the footballs should be based on numerator, should match predicted variance in very beginning.\n",
    "    \n",
    "    \n",
    "    ## for each sensor to be added:\n",
    "    for j in range(k):\n",
    "        ## find the indices of coordinates not already in A to iterate through\n",
    "        Y = S[np.isin(S, A, invert=True)]\n",
    "        ## store the calculated value for each potential coordinate in order to take the max\n",
    "        delta = np.array([])\n",
    "        ## print iteration\n",
    "        print(\"Starting iteration: \" + str(j))\n",
    "    \n",
    "        for y in Y:\n",
    "            ## define how many sensor sites already exist\n",
    "            len_A = A.shape[0]\n",
    "            ## combine indices of y and A\n",
    "            yA = np.append(np.array([y]), A, axis=0)\n",
    "            ## collect values of y and A using the indices\n",
    "            yA_val = X[yA,:].reshape(yA.shape[0],X.shape[1])\n",
    "            \n",
    "            ## define the rest of possible sites taking out y and A\n",
    "            nyA = S[np.isin(S, yA, invert=True)]\n",
    "            len_nA = nyA.shape[0]\n",
    "            ## define the indices of locations not in yA\n",
    "            nyA = np.append(np.array([y]), nyA, axis=0)\n",
    "            ## collect values of y and nA using the indices\n",
    "            nyA_val = X[nyA,:].reshape(nyA.shape[0],X.shape[1])\n",
    "\n",
    "            ## generate the covariance matrix:\n",
    "            ##    y  A1  A2  ...\n",
    "            ## y\n",
    "            ## A1\n",
    "            ## A2\n",
    "            ## ...\n",
    "            cov_mat_A = generate_cov_mat(yA_val)\n",
    "            ## select y's covariance\n",
    "            y_cov = cov_mat_A[:1,[0]]\n",
    "            ## grab covariance values\n",
    "            if len_A > 0:\n",
    "                AA_cov = np.linalg.inv(cov_mat_A[1:len_A+1, 1:len_A+1])\n",
    "                yA_cov = cov_mat_A[[0],1:len_A+1]\n",
    "                Ay_cov = yA_cov.T\n",
    "                calc_1 = y_cov**2 - np.dot(np.dot(yA_cov, AA_cov), Ay_cov)\n",
    "            ## if A is empty: ignore the 2nd part of the calculation\n",
    "            else:\n",
    "                calc_1 = y_cov**2\n",
    "            \n",
    "            cov_mat_nA = generate_cov_mat(nyA_val)\n",
    "            nAA_cov = np.linalg.inv(cov_mat_nA[1:len_nA+1, 1:len_nA+1])\n",
    "            nyA_cov = cov_mat_nA[[0],1:len_nA+1]\n",
    "            nAy_cov = nyA_cov.T\n",
    "            calc_2 = y_cov**2 - np.dot(np.dot(nyA_cov, nAA_cov), nAy_cov)\n",
    "            \n",
    "            value = calc_1 / calc_2\n",
    "            delta = np.append(delta, value)\n",
    "            \n",
    "        ## find the index with the largest delta\n",
    "        y_star = np.array(Y[np.argmax(delta)])\n",
    "        ## append to A as a new sensor site\n",
    "        A = np.append(A, y_star)\n",
    "        \n",
    "        if verbose == True:\n",
    "            #print(Y)\n",
    "            #print(delta)\n",
    "            print(\"Max value: \" + str(np.amax(delta)))\n",
    "            print(\"Picking sensor site: \" + str(y_star))\n",
    "    \n",
    "    A_sites = X[A,:]\n",
    "    return(A_sites)"
   ]
  },
  {
   "cell_type": "code",
   "execution_count": 17,
   "metadata": {
    "scrolled": true
   },
   "outputs": [
    {
     "name": "stdout",
     "output_type": "stream",
     "text": [
      "finding 8 sensor locations of 91 possible locations\n",
      "Starting iteration: 0\n",
      "Starting iteration: 1\n",
      "Starting iteration: 2\n",
      "Starting iteration: 3\n",
      "Starting iteration: 4\n",
      "Starting iteration: 5\n",
      "Starting iteration: 6\n",
      "Starting iteration: 7\n",
      "[[57]\n",
      " [90]\n",
      " [43]\n",
      " [ 2]\n",
      " [55]\n",
      " [38]\n",
      " [52]\n",
      " [36]]\n"
     ]
    }
   ],
   "source": [
    "best_sensors = pick_best_sensors_krause(S=S, X=x_new, k=k, A=A, verbose=False)\n",
    "print(best_sensors)"
   ]
  },
  {
   "cell_type": "code",
   "execution_count": 18,
   "metadata": {
    "scrolled": true
   },
   "outputs": [
    {
     "data": {
      "image/png": "[encoded data removed]",
      "text/plain": [
       "<Figure size 864x432 with 1 Axes>"
      ]
     },
     "metadata": {
      "needs_background": "light"
     },
     "output_type": "display_data"
    }
   ],
   "source": [
    "## WORKS ONLY FOR 1-D DATA\n",
    "def plot(m, N):\n",
    "    ## true underlying function: dashed line\n",
    "    ## mean: green line\n",
    "    ## shade: sd\n",
    "    ## training points: black dots\n",
    "    ## selected sensor points: red triangles\n",
    "    xx = np.linspace(0, N, N+1)[:,None]\n",
    "    ## actual function\n",
    "    yy = np.sin(12*xx) + 0.66*np.cos(25*xx)  + np.random.randn(N+1,1)*noiseSize + 3\n",
    "    ## predict values\n",
    "    mean, var = m.predict_y(xx)\n",
    "    plt.figure(figsize=(12, 6))\n",
    "    \n",
    "    mean_train, var_train = m.predict_y(x_train)\n",
    "    plt.plot(x_train, mean_train, 'ko', mew=2)\n",
    "    \n",
    "    mean_sensors, var_sensors = m.predict_y(best_sensors)\n",
    "    plt.plot(best_sensors, mean_sensors, 'rv', mew=2)\n",
    "    \n",
    "    plt.plot(xx, yy, 'k--', alpha=0.5)\n",
    "    plt.plot(xx, mean, 'g', lw=2)\n",
    "    plt.fill_between(xx[:,0], mean[:,0] - 2*np.sqrt(var[:,0]), mean[:,0] + 2*np.sqrt(var[:,0]), color='green', alpha=0.1)\n",
    "    plt.xlim(0, N)\n",
    "    plt.title('Selected Sensors, N=' + str(N))\n",
    "    plt.savefig('../figures/selected_sensors_' + str(N))\n",
    "plot(m, N)"
   ]
  },
  {
   "cell_type": "code",
   "execution_count": null,
   "metadata": {},
   "outputs": [],
   "source": []
  },
  {
   "cell_type": "code",
   "execution_count": null,
   "metadata": {},
   "outputs": [],
   "source": []
  },
  {
   "cell_type": "code",
   "execution_count": null,
   "metadata": {},
   "outputs": [],
   "source": []
  },
  {
   "cell_type": "code",
   "execution_count": null,
   "metadata": {},
   "outputs": [],
   "source": []
  },
  {
   "cell_type": "code",
   "execution_count": null,
   "metadata": {},
   "outputs": [],
   "source": []
  },
  {
   "cell_type": "code",
   "execution_count": null,
   "metadata": {},
   "outputs": [],
   "source": [
    "## fake data\n",
    "## random int X and NO2 concentration Y works!\n",
    "#X = np.random.randint(50, size=(20, 2)).astype(float)\n",
    "## so does this...\n",
    "#X = np.random.normal(size=(20,2))\n",
    "#print(X.shape)\n",
    "#print(X)\n",
    "#dta = pd.read_csv(\"../data/kcl_london_model_data_winter_collapsed.csv\", sep=',') \n",
    "#y = dta.loc[:,'nox'].values\n",
    "#y = y.reshape(-1,1)"
   ]
  },
  {
   "cell_type": "code",
   "execution_count": 11,
   "metadata": {},
   "outputs": [
    {
     "name": "stdout",
     "output_type": "stream",
     "text": [
      "(230, 6)\n",
      "(230, 2)\n"
     ]
    }
   ],
   "source": [
    "## aggregated over time\n",
    "dta = pd.read_csv(\"../data/kcl_london_model_data_winter_collapsed.csv\", sep=',') \n",
    "print(dta.shape)\n",
    "params = ['latitude', 'longitude']\n",
    "\n",
    "#dta = pd.read_csv(\"../data/kcl_london_model_data_winter_agg_time.csv\", sep=',')\n",
    "#print(dta.shape)\n",
    "#params = ['latitude', 'longitude', 'year']\n",
    "\n",
    "\n",
    "X = dta[params].values\n",
    "print(X.shape)\n",
    "## rescale lat/long and year data\n",
    "## scaling the data causes the determinant to be 0 for the matrix\n",
    "#X = feature_scaler.fit_transform(X)\n",
    "y = dta.loc[:,'nox'].values\n",
    "y = y.reshape(-1,1)"
   ]
  },
  {
   "cell_type": "code",
   "execution_count": 12,
   "metadata": {},
   "outputs": [],
   "source": [
    "#print(X.shape)\n",
    "#unique_elements = np.unique(X)\n",
    "#print(unique_elements[0:5])"
   ]
  },
  {
   "cell_type": "code",
   "execution_count": 13,
   "metadata": {},
   "outputs": [],
   "source": [
    "## set max number\n",
    "N = 200\n",
    "## set number of sensor locations to find\n",
    "k = 5\n",
    "## set percent of N to train on\n",
    "#perc = .10\n",
    "perc = .75"
   ]
  },
  {
   "cell_type": "code",
   "execution_count": 14,
   "metadata": {
    "scrolled": true
   },
   "outputs": [
    {
     "name": "stdout",
     "output_type": "stream",
     "text": [
      "150\n"
     ]
    }
   ],
   "source": [
    "## subset to the trained data\n",
    "sub = ma.ceil(perc*N)\n",
    "print(sub)"
   ]
  },
  {
   "cell_type": "code",
   "execution_count": 15,
   "metadata": {},
   "outputs": [
    {
     "name": "stdout",
     "output_type": "stream",
     "text": [
      "[  0   1   2   3   4   5   6   7   8   9  10  11  12  13  14  15  16  17\n",
      "  18  19  20  21  22  23  24  25  26  27  28  29  30  31  32  33  34  35\n",
      "  36  37  38  39  40  41  42  43  44  45  46  47  48  49  50  51  52  53\n",
      "  54  55  56  57  58  59  60  61  62  63  64  65  66  67  68  69  70  71\n",
      "  72  73  74  75  76  77  78  79  80  81  82  83  84  85  86  87  88  89\n",
      "  90  91  92  93  94  95  96  97  98  99 100 101 102 103 104 105 106 107\n",
      " 108 109 110 111 112 113 114 115 116 117 118 119 120 121 122 123 124 125\n",
      " 126 127 128 129 130 131 132 133 134 135 136 137 138 139 140 141 142 143\n",
      " 144 145 146 147 148 149]\n"
     ]
    }
   ],
   "source": [
    "## take the first sub coordinates for training\n",
    "x_samps = np.arange(0,sub)\n",
    "print(x_samps)"
   ]
  },
  {
   "cell_type": "code",
   "execution_count": null,
   "metadata": {},
   "outputs": [],
   "source": []
  },
  {
   "cell_type": "code",
   "execution_count": 16,
   "metadata": {},
   "outputs": [
    {
     "name": "stdout",
     "output_type": "stream",
     "text": [
      "(150, 2)\n",
      "(150, 1)\n"
     ]
    }
   ],
   "source": [
    "## take sample for training\n",
    "#x_samps = np.random.randint(X.shape[0], size=sub)\n",
    "\n",
    "x_train = X[x_samps,:]\n",
    "y_train = y[x_samps,:]\n",
    "## standardize y-values\n",
    "y_train = feature_scaler.fit_transform(y_train)\n",
    "\n",
    "print(x_train.shape)\n",
    "print(y_train.shape)"
   ]
  },
  {
   "cell_type": "code",
   "execution_count": 17,
   "metadata": {},
   "outputs": [
    {
     "name": "stderr",
     "output_type": "stream",
     "text": [
      "WARNING:gpflow.logdensities:Shape of x must be 2D at computation.\n"
     ]
    },
    {
     "data": {
      "text/html": [
       "<div>\n",
       "<style scoped>\n",
       "    .dataframe tbody tr th:only-of-type {\n",
       "        vertical-align: middle;\n",
       "    }\n",
       "\n",
       "    .dataframe tbody tr th {\n",
       "        vertical-align: top;\n",
       "    }\n",
       "\n",
       "    .dataframe thead th {\n",
       "        text-align: right;\n",
       "    }\n",
       "</style>\n",
       "<table border=\"1\" class=\"dataframe\">\n",
       "  <thead>\n",
       "    <tr style=\"text-align: right;\">\n",
       "      <th></th>\n",
       "      <th>class</th>\n",
       "      <th>prior</th>\n",
       "      <th>transform</th>\n",
       "      <th>trainable</th>\n",
       "      <th>shape</th>\n",
       "      <th>fixed_shape</th>\n",
       "      <th>value</th>\n",
       "    </tr>\n",
       "  </thead>\n",
       "  <tbody>\n",
       "    <tr>\n",
       "      <th>GPR/kern/lengthscales</th>\n",
       "      <td>Parameter</td>\n",
       "      <td>None</td>\n",
       "      <td>+ve</td>\n",
       "      <td>True</td>\n",
       "      <td>()</td>\n",
       "      <td>True</td>\n",
       "      <td>1.0</td>\n",
       "    </tr>\n",
       "    <tr>\n",
       "      <th>GPR/kern/variance</th>\n",
       "      <td>Parameter</td>\n",
       "      <td>None</td>\n",
       "      <td>+ve</td>\n",
       "      <td>True</td>\n",
       "      <td>()</td>\n",
       "      <td>True</td>\n",
       "      <td>1.0</td>\n",
       "    </tr>\n",
       "    <tr>\n",
       "      <th>GPR/likelihood/variance</th>\n",
       "      <td>Parameter</td>\n",
       "      <td>None</td>\n",
       "      <td>+ve</td>\n",
       "      <td>True</td>\n",
       "      <td>()</td>\n",
       "      <td>True</td>\n",
       "      <td>0.01</td>\n",
       "    </tr>\n",
       "  </tbody>\n",
       "</table>\n",
       "</div>"
      ],
      "text/plain": [
       "                             class prior transform  trainable shape  \\\n",
       "GPR/kern/lengthscales    Parameter  None       +ve       True    ()   \n",
       "GPR/kern/variance        Parameter  None       +ve       True    ()   \n",
       "GPR/likelihood/variance  Parameter  None       +ve       True    ()   \n",
       "\n",
       "                         fixed_shape value  \n",
       "GPR/kern/lengthscales           True   1.0  \n",
       "GPR/kern/variance               True   1.0  \n",
       "GPR/likelihood/variance         True  0.01  "
      ]
     },
     "execution_count": 17,
     "metadata": {},
     "output_type": "execute_result"
    }
   ],
   "source": [
    "## build model\n",
    "kernel = gpflow.kernels.RBF(2, active_dims=[0,1], lengthscales=1.0)\n",
    "#kernel = gpflow.kernels.RBF(2, active_dims=[0,1], lengthscales=1.0) *\\\n",
    "#            gpflow.kernels.RBF(1 , active_dims=[2], lengthscales=0.1)\n",
    "\n",
    "## build model\n",
    "m = gpflow.models.GPR(x_train, y_train, kern=kernel)\n",
    "m.likelihood.variance = 0.01\n",
    "\n",
    "## could put bounds on likelihood variance to never be below or equal to 0.\n",
    "\n",
    "\n",
    "## view \n",
    "m.as_pandas_table()"
   ]
  },
  {
   "cell_type": "code",
   "execution_count": 18,
   "metadata": {},
   "outputs": [
    {
     "name": "stdout",
     "output_type": "stream",
     "text": [
      "INFO:tensorflow:Optimization terminated with:\n",
      "  Message: b'CONVERGENCE: REL_REDUCTION_OF_F_<=_FACTR*EPSMCH'\n",
      "  Objective function value: 185.860547\n",
      "  Number of iterations: 32\n",
      "  Number of functions evaluations: 55\n"
     ]
    },
    {
     "name": "stderr",
     "output_type": "stream",
     "text": [
      "INFO:tensorflow:Optimization terminated with:\n",
      "  Message: b'CONVERGENCE: REL_REDUCTION_OF_F_<=_FACTR*EPSMCH'\n",
      "  Objective function value: 185.860547\n",
      "  Number of iterations: 32\n",
      "  Number of functions evaluations: 55\n"
     ]
    },
    {
     "name": "stdout",
     "output_type": "stream",
     "text": [
      "                             class prior transform  trainable shape  \\\n",
      "GPR/kern/lengthscales    Parameter  None       +ve       True    ()   \n",
      "GPR/kern/variance        Parameter  None       +ve       True    ()   \n",
      "GPR/likelihood/variance  Parameter  None       +ve       True    ()   \n",
      "\n",
      "                         fixed_shape                 value  \n",
      "GPR/kern/lengthscales           True  0.008074729976512469  \n",
      "GPR/kern/variance               True    0.8590355638348363  \n",
      "GPR/likelihood/variance         True   0.16090179526650084  \n"
     ]
    }
   ],
   "source": [
    "## Run Model\n",
    "## Marginal Liklihood Maximization\n",
    "## picks the most simple model that picks the data the best\n",
    "gpflow.train.ScipyOptimizer().minimize(m)\n",
    "print(m.as_pandas_table())"
   ]
  },
  {
   "cell_type": "code",
   "execution_count": 19,
   "metadata": {},
   "outputs": [
    {
     "name": "stdout",
     "output_type": "stream",
     "text": [
      "[170 171 172 173 174 175 176 177 178 179 180 181 182 183 184 185 186 187\n",
      " 188 189 190 191 192 193 194 195 196 197 198 199]\n",
      "(30, 2)\n",
      "[[51.49061021  0.15891449]\n",
      " [51.563752    0.177891  ]\n",
      " [51.46598327  0.18487713]\n",
      " [51.46884028 -0.49290322]\n",
      " [51.48145675 -0.48665481]]\n"
     ]
    }
   ],
   "source": [
    "## define x-values not used for training\n",
    "## iterate all of X\n",
    "#X_iter = np.arange(0,X.shape[0])\n",
    "## take out the iters already used for training\n",
    "#x_new = np.setdiff1d(X_iter, x_samps)\n",
    "#x_new_samps = np.arange(sub+2,sub+2+N+1)\n",
    "x_new_samps = np.arange(sub+20, sub+30+20)\n",
    "print(x_new_samps)\n",
    "## randomly select new iterations from the list\n",
    "#x_new_samps = np.random.choice(x_new, N-sub, replace=False)\n",
    "#print(x_samps)\n",
    "#print(x_new_samps)\n",
    "x_new = X[x_new_samps,:]\n",
    "print(x_new.shape)\n",
    "print(x_new[0:5])\n",
    "#print(x_samps)"
   ]
  },
  {
   "cell_type": "code",
   "execution_count": 20,
   "metadata": {},
   "outputs": [],
   "source": [
    "## selected sensors (indices)\n",
    "A = np.array([],dtype=int)\n",
    "## number of sensors to find\n",
    "k = k\n",
    "## define S as the incides of x_new\n",
    "S = np.arange(0,x_new.shape[0]).reshape(x_new.shape[0],1) "
   ]
  },
  {
   "cell_type": "code",
   "execution_count": 21,
   "metadata": {},
   "outputs": [],
   "source": [
    "## x is np.array or single value\n",
    "def generate_cov_mat(x):\n",
    "    if not isinstance(x, np.ndarray):\n",
    "        x = np.array(x).reshape(-1,1)\n",
    "    cov_mat = m.predict_f_full_cov(x)[1][0,:,:] #+ (identity * liklihood variance)\n",
    "    return(cov_mat)"
   ]
  },
  {
   "cell_type": "code",
   "execution_count": 22,
   "metadata": {},
   "outputs": [],
   "source": [
    "from scipy.linalg import det"
   ]
  },
  {
   "cell_type": "code",
   "execution_count": 23,
   "metadata": {},
   "outputs": [
    {
     "name": "stdout",
     "output_type": "stream",
     "text": [
      "(30, 2)\n"
     ]
    }
   ],
   "source": [
    "print(x_new.shape)\n",
    "#print(X[0,:])"
   ]
  },
  {
   "cell_type": "code",
   "execution_count": 24,
   "metadata": {},
   "outputs": [],
   "source": [
    "def pick_best_sensors_krause(S, X, k, A, verbose=False):\n",
    "\n",
    "    ## take out locations already in A before checks\n",
    "    #S = S[np.isin(S, A, invert=True)]\n",
    "    \n",
    "    ## checks\n",
    "    if k > S.shape[0]:\n",
    "        print(\"error! k must be smaller than S\")\n",
    "        return\n",
    "    if k/S.shape[0] > 0.25:\n",
    "        print(\"Recommendation: k should be a significantly small fraction of S\")\n",
    "    \n",
    "    ## print statements\n",
    "    print(\"finding \" + str(k) + \" sensor locations of \" + str(S.shape[0]) + \" possible locations\")\n",
    "    \n",
    "    ## next version: \n",
    "    ## add S + U\n",
    "    \n",
    "    ## later version:\n",
    "    ## create function to generate model\n",
    "    \n",
    "    ## additional checks:\n",
    "    ## length of A + k should be less than S\n",
    "    ## Mz = x, give M and x and solve for z\n",
    "    ## manually change liklihood variance to confirm the same covariance\n",
    "    ## if so, manually add it in (times the identity matrix)\n",
    "    \n",
    "    \n",
    "    ## for each sensor to be added:\n",
    "    for j in range(k):\n",
    "        ## find the indices of coordinates not already in A to iterate through\n",
    "        Y = S[np.isin(S, A, invert=True)]\n",
    "        ## store the calculated value for each potential coordinate in order to take the max\n",
    "        delta = np.array([])\n",
    "        ## print iteration\n",
    "        print(\"Starting iteration: \" + str(j))\n",
    "    \n",
    "        for y in Y:\n",
    "            #print(y)\n",
    "            ## define how many sensor sites already exist\n",
    "            len_A = A.shape[0]\n",
    "            #print(len_A)\n",
    "            ## combine indices of y and A\n",
    "            yA = np.append(np.array([y]), A, axis=0)\n",
    "            #print(yA)\n",
    "            ## collect values of y and A using the indices\n",
    "            #print(X.shape)\n",
    "            #print(X[0:5,])\n",
    "            yA_val = X[yA,:].reshape(yA.shape[0],X.shape[1])\n",
    "            #print(X[yA,:].shape)\n",
    "            #print(yA_val.shape)\n",
    "            \n",
    "            ## define the rest of possible sites taking out y and A\n",
    "            nyA = S[np.isin(S, yA, invert=True)]\n",
    "            len_nA = nyA.shape[0]\n",
    "            ## define the indices of locations not in yA\n",
    "            nyA = np.append(np.array([y]), nyA, axis=0)\n",
    "            ## collect values of y and nA using the indices\n",
    "            nyA_val = X[nyA,:].reshape(nyA.shape[0],X.shape[1])\n",
    "\n",
    "            ## generate the covariance matrix:\n",
    "            ##    y  A1  A2  ...\n",
    "            ## y\n",
    "            ## A1\n",
    "            ## A2\n",
    "            ## ...\n",
    "            cov_mat_A = generate_cov_mat(yA_val)\n",
    "            ## select y's covariance\n",
    "            y_cov = cov_mat_A[:1,[0]]\n",
    "            ## grab covariance values\n",
    "            if len_A > 0:\n",
    "                AA_cov = np.linalg.inv(cov_mat_A[1:len_A+1, 1:len_A+1])\n",
    "                yA_cov = cov_mat_A[[0],1:len_A+1]\n",
    "                Ay_cov = yA_cov.T\n",
    "                calc_1 = y_cov**2 - np.dot(np.dot(yA_cov, AA_cov), Ay_cov)\n",
    "            ## if A is empty: ignore the 2nd part of the calculation\n",
    "            else:\n",
    "                calc_1 = y_cov**2\n",
    "            \n",
    "            cov_mat_nA = generate_cov_mat(nyA_val)\n",
    "            #print(nyA_val.shape)\n",
    "            #print(nyA_val[0:5,])\n",
    "            #if np.linalg.det(cov_mat_nA) == 0:\n",
    "            #    print(\"determinant of cov_mat_nA = 0!\")\n",
    "            #    print(\"other determinant of cov_mat_nA = \" + str(det(cov_mat_nA)))\n",
    "            #print(cov_mat_nA.shape)\n",
    "            #print(cov_mat_nA)\n",
    "            \n",
    "            nAA_cov = np.linalg.inv(cov_mat_nA[1:len_nA+1, 1:len_nA+1])\n",
    "            #nAA_cov = np.linalg.pinv(cov_mat_nA[1:len_nA+1, 1:len_nA+1])\n",
    "            nyA_cov = cov_mat_nA[[0],1:len_nA+1]\n",
    "            nAy_cov = nyA_cov.T\n",
    "            calc_2 = y_cov**2 - np.dot(np.dot(nyA_cov, nAA_cov), nAy_cov)\n",
    "            \n",
    "            value = calc_1 / calc_2\n",
    "            delta = np.append(delta, value)\n",
    "            \n",
    "        ## find the index with the largest delta\n",
    "        y_star = np.array(Y[np.argmax(delta)])\n",
    "        ## append to A as a new sensor site\n",
    "        A = np.append(A, y_star)\n",
    "        \n",
    "        if verbose == True:\n",
    "            #print(Y)\n",
    "            #print(delta)\n",
    "            print(\"Max value: \" + str(np.amax(delta)))\n",
    "            print(\"Picking sensor site: \" + str(y_star))\n",
    "    \n",
    "    A_sites = X[A,:]\n",
    "    return(A_sites)"
   ]
  },
  {
   "cell_type": "code",
   "execution_count": 25,
   "metadata": {},
   "outputs": [
    {
     "name": "stdout",
     "output_type": "stream",
     "text": [
      "finding 5 sensor locations of 30 possible locations\n",
      "Starting iteration: 0\n"
     ]
    },
    {
     "ename": "LinAlgError",
     "evalue": "Singular matrix",
     "output_type": "error",
     "traceback": [
      "\u001b[0;31m---------------------------------------------------------------------------\u001b[0m",
      "\u001b[0;31mLinAlgError\u001b[0m                               Traceback (most recent call last)",
      "\u001b[0;32m<ipython-input-25-a9aa180d3187>\u001b[0m in \u001b[0;36m<module>\u001b[0;34m\u001b[0m\n\u001b[1;32m      1\u001b[0m \u001b[0;31m#print(S.shape)\u001b[0m\u001b[0;34m\u001b[0m\u001b[0;34m\u001b[0m\u001b[0;34m\u001b[0m\u001b[0m\n\u001b[1;32m      2\u001b[0m \u001b[0;31m#print(x_new.shape)\u001b[0m\u001b[0;34m\u001b[0m\u001b[0;34m\u001b[0m\u001b[0;34m\u001b[0m\u001b[0m\n\u001b[0;32m----> 3\u001b[0;31m \u001b[0mbest_sensors\u001b[0m \u001b[0;34m=\u001b[0m \u001b[0mpick_best_sensors_krause\u001b[0m\u001b[0;34m(\u001b[0m\u001b[0mS\u001b[0m\u001b[0;34m=\u001b[0m\u001b[0mS\u001b[0m\u001b[0;34m,\u001b[0m \u001b[0mX\u001b[0m\u001b[0;34m=\u001b[0m\u001b[0mx_new\u001b[0m\u001b[0;34m,\u001b[0m \u001b[0mk\u001b[0m\u001b[0;34m=\u001b[0m\u001b[0mk\u001b[0m\u001b[0;34m,\u001b[0m \u001b[0mA\u001b[0m\u001b[0;34m=\u001b[0m\u001b[0mA\u001b[0m\u001b[0;34m,\u001b[0m \u001b[0mverbose\u001b[0m\u001b[0;34m=\u001b[0m\u001b[0;32mFalse\u001b[0m\u001b[0;34m)\u001b[0m\u001b[0;34m\u001b[0m\u001b[0;34m\u001b[0m\u001b[0m\n\u001b[0m\u001b[1;32m      4\u001b[0m \u001b[0mprint\u001b[0m\u001b[0;34m(\u001b[0m\u001b[0mbest_sensors\u001b[0m\u001b[0;34m)\u001b[0m\u001b[0;34m\u001b[0m\u001b[0;34m\u001b[0m\u001b[0m\n",
      "\u001b[0;32m<ipython-input-24-c9cb07841452>\u001b[0m in \u001b[0;36mpick_best_sensors_krause\u001b[0;34m(S, X, k, A, verbose)\u001b[0m\n\u001b[1;32m     87\u001b[0m             \u001b[0;31m#print(cov_mat_nA)\u001b[0m\u001b[0;34m\u001b[0m\u001b[0;34m\u001b[0m\u001b[0;34m\u001b[0m\u001b[0m\n\u001b[1;32m     88\u001b[0m \u001b[0;34m\u001b[0m\u001b[0m\n\u001b[0;32m---> 89\u001b[0;31m             \u001b[0mnAA_cov\u001b[0m \u001b[0;34m=\u001b[0m \u001b[0mnp\u001b[0m\u001b[0;34m.\u001b[0m\u001b[0mlinalg\u001b[0m\u001b[0;34m.\u001b[0m\u001b[0minv\u001b[0m\u001b[0;34m(\u001b[0m\u001b[0mcov_mat_nA\u001b[0m\u001b[0;34m[\u001b[0m\u001b[0;36m1\u001b[0m\u001b[0;34m:\u001b[0m\u001b[0mlen_nA\u001b[0m\u001b[0;34m+\u001b[0m\u001b[0;36m1\u001b[0m\u001b[0;34m,\u001b[0m \u001b[0;36m1\u001b[0m\u001b[0;34m:\u001b[0m\u001b[0mlen_nA\u001b[0m\u001b[0;34m+\u001b[0m\u001b[0;36m1\u001b[0m\u001b[0;34m]\u001b[0m\u001b[0;34m)\u001b[0m\u001b[0;34m\u001b[0m\u001b[0;34m\u001b[0m\u001b[0m\n\u001b[0m\u001b[1;32m     90\u001b[0m             \u001b[0;31m#nAA_cov = np.linalg.pinv(cov_mat_nA[1:len_nA+1, 1:len_nA+1])\u001b[0m\u001b[0;34m\u001b[0m\u001b[0;34m\u001b[0m\u001b[0;34m\u001b[0m\u001b[0m\n\u001b[1;32m     91\u001b[0m             \u001b[0mnyA_cov\u001b[0m \u001b[0;34m=\u001b[0m \u001b[0mcov_mat_nA\u001b[0m\u001b[0;34m[\u001b[0m\u001b[0;34m[\u001b[0m\u001b[0;36m0\u001b[0m\u001b[0;34m]\u001b[0m\u001b[0;34m,\u001b[0m\u001b[0;36m1\u001b[0m\u001b[0;34m:\u001b[0m\u001b[0mlen_nA\u001b[0m\u001b[0;34m+\u001b[0m\u001b[0;36m1\u001b[0m\u001b[0;34m]\u001b[0m\u001b[0;34m\u001b[0m\u001b[0;34m\u001b[0m\u001b[0m\n",
      "\u001b[0;32m~/Library/Python/3.7/lib/python/site-packages/numpy/linalg/linalg.py\u001b[0m in \u001b[0;36minv\u001b[0;34m(a)\u001b[0m\n\u001b[1;32m    549\u001b[0m     \u001b[0msignature\u001b[0m \u001b[0;34m=\u001b[0m \u001b[0;34m'D->D'\u001b[0m \u001b[0;32mif\u001b[0m \u001b[0misComplexType\u001b[0m\u001b[0;34m(\u001b[0m\u001b[0mt\u001b[0m\u001b[0;34m)\u001b[0m \u001b[0;32melse\u001b[0m \u001b[0;34m'd->d'\u001b[0m\u001b[0;34m\u001b[0m\u001b[0;34m\u001b[0m\u001b[0m\n\u001b[1;32m    550\u001b[0m     \u001b[0mextobj\u001b[0m \u001b[0;34m=\u001b[0m \u001b[0mget_linalg_error_extobj\u001b[0m\u001b[0;34m(\u001b[0m\u001b[0m_raise_linalgerror_singular\u001b[0m\u001b[0;34m)\u001b[0m\u001b[0;34m\u001b[0m\u001b[0;34m\u001b[0m\u001b[0m\n\u001b[0;32m--> 551\u001b[0;31m     \u001b[0mainv\u001b[0m \u001b[0;34m=\u001b[0m \u001b[0m_umath_linalg\u001b[0m\u001b[0;34m.\u001b[0m\u001b[0minv\u001b[0m\u001b[0;34m(\u001b[0m\u001b[0ma\u001b[0m\u001b[0;34m,\u001b[0m \u001b[0msignature\u001b[0m\u001b[0;34m=\u001b[0m\u001b[0msignature\u001b[0m\u001b[0;34m,\u001b[0m \u001b[0mextobj\u001b[0m\u001b[0;34m=\u001b[0m\u001b[0mextobj\u001b[0m\u001b[0;34m)\u001b[0m\u001b[0;34m\u001b[0m\u001b[0;34m\u001b[0m\u001b[0m\n\u001b[0m\u001b[1;32m    552\u001b[0m     \u001b[0;32mreturn\u001b[0m \u001b[0mwrap\u001b[0m\u001b[0;34m(\u001b[0m\u001b[0mainv\u001b[0m\u001b[0;34m.\u001b[0m\u001b[0mastype\u001b[0m\u001b[0;34m(\u001b[0m\u001b[0mresult_t\u001b[0m\u001b[0;34m,\u001b[0m \u001b[0mcopy\u001b[0m\u001b[0;34m=\u001b[0m\u001b[0;32mFalse\u001b[0m\u001b[0;34m)\u001b[0m\u001b[0;34m)\u001b[0m\u001b[0;34m\u001b[0m\u001b[0;34m\u001b[0m\u001b[0m\n\u001b[1;32m    553\u001b[0m \u001b[0;34m\u001b[0m\u001b[0m\n",
      "\u001b[0;32m~/Library/Python/3.7/lib/python/site-packages/numpy/linalg/linalg.py\u001b[0m in \u001b[0;36m_raise_linalgerror_singular\u001b[0;34m(err, flag)\u001b[0m\n\u001b[1;32m     95\u001b[0m \u001b[0;34m\u001b[0m\u001b[0m\n\u001b[1;32m     96\u001b[0m \u001b[0;32mdef\u001b[0m \u001b[0m_raise_linalgerror_singular\u001b[0m\u001b[0;34m(\u001b[0m\u001b[0merr\u001b[0m\u001b[0;34m,\u001b[0m \u001b[0mflag\u001b[0m\u001b[0;34m)\u001b[0m\u001b[0;34m:\u001b[0m\u001b[0;34m\u001b[0m\u001b[0;34m\u001b[0m\u001b[0m\n\u001b[0;32m---> 97\u001b[0;31m     \u001b[0;32mraise\u001b[0m \u001b[0mLinAlgError\u001b[0m\u001b[0;34m(\u001b[0m\u001b[0;34m\"Singular matrix\"\u001b[0m\u001b[0;34m)\u001b[0m\u001b[0;34m\u001b[0m\u001b[0;34m\u001b[0m\u001b[0m\n\u001b[0m\u001b[1;32m     98\u001b[0m \u001b[0;34m\u001b[0m\u001b[0m\n\u001b[1;32m     99\u001b[0m \u001b[0;32mdef\u001b[0m \u001b[0m_raise_linalgerror_nonposdef\u001b[0m\u001b[0;34m(\u001b[0m\u001b[0merr\u001b[0m\u001b[0;34m,\u001b[0m \u001b[0mflag\u001b[0m\u001b[0;34m)\u001b[0m\u001b[0;34m:\u001b[0m\u001b[0;34m\u001b[0m\u001b[0;34m\u001b[0m\u001b[0m\n",
      "\u001b[0;31mLinAlgError\u001b[0m: Singular matrix"
     ]
    }
   ],
   "source": [
    "#print(S.shape)\n",
    "#print(x_new.shape)\n",
    "best_sensors = pick_best_sensors_krause(S=S, X=x_new, k=k, A=A, verbose=False)\n",
    "print(best_sensors)"
   ]
  },
  {
   "cell_type": "code",
   "execution_count": null,
   "metadata": {},
   "outputs": [],
   "source": []
  }
 ],
 "metadata": {
  "kernelspec": {
   "display_name": "Python 3",
   "language": "python",
   "name": "python3"
  },
  "language_info": {
   "codemirror_mode": {
    "name": "ipython",
    "version": 3
   },
   "file_extension": ".py",
   "mimetype": "text/x-python",
   "name": "python",
   "nbconvert_exporter": "python",
   "pygments_lexer": "ipython3",
   "version": "3.7.3"
  }
 },
 "nbformat": 4,
 "nbformat_minor": 2
}
